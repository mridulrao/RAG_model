{
 "cells": [
  {
   "cell_type": "code",
   "execution_count": 1,
   "id": "b1be9d9f-3615-455e-9541-28a992015a3e",
   "metadata": {},
   "outputs": [
    {
     "data": {
      "text/plain": [
       "'\\nLlama Index - used to bind the data and LLM \\nTool kit for summarization and question-answering \\n\\nWe use data agents for this \\n\\n'"
      ]
     },
     "execution_count": 1,
     "metadata": {},
     "output_type": "execute_result"
    }
   ],
   "source": [
    "'''\n",
    "Llama Index - used to bind the data and LLM \n",
    "Tool kit for summarization and question-answering \n",
    "\n",
    "We use data agents for this \n",
    "\n",
    "'''"
   ]
  },
  {
   "cell_type": "code",
   "execution_count": 2,
   "id": "dad5215d-467a-4d56-b79e-378b5c53c47d",
   "metadata": {},
   "outputs": [],
   "source": [
    "# 10-k fillings example chatbot \n",
    "\n",
    "import os \n",
    "os.environ[\"OPENAI_API_KEY\"] = \"\"\n",
    "\n",
    "#saves from some ansynchronous error\n",
    "import nest_asyncio\n",
    "nest_asyncio.apply()"
   ]
  },
  {
   "cell_type": "code",
   "execution_count": 3,
   "id": "bc59d6a0-a007-414a-bd09-2f827996cacc",
   "metadata": {},
   "outputs": [],
   "source": [
    "# set text wrapping\n",
    "from IPython.display import HTML, display\n",
    "\n",
    "def set_css(self):\n",
    "    display(HTML(\"\"\"\n",
    "      <style>\n",
    "        pre {\n",
    "            white-space: pre-wrap;\n",
    "        }\n",
    "      </style>\n",
    "  \"\"\"))\n",
    "\n",
    "get_ipython().events.register(\"pre_run_cell\", set_css)"
   ]
  },
  {
   "cell_type": "code",
   "execution_count": 4,
   "id": "59c06d5d-f4fb-441c-a644-ffe5d816d1dd",
   "metadata": {},
   "outputs": [
    {
     "data": {
      "text/html": [
       "\n",
       "      <style>\n",
       "        pre {\n",
       "            white-space: pre-wrap;\n",
       "        }\n",
       "      </style>\n",
       "  "
      ],
      "text/plain": [
       "<IPython.core.display.HTML object>"
      ]
     },
     "metadata": {},
     "output_type": "display_data"
    },
    {
     "name": "stdout",
     "output_type": "stream",
     "text": [
      "mkdir: cannot create directory ‘data_10k’: File exists\n",
      "--2024-05-27 22:21:31--  https://www.dropbox.com/s/948jr9cfs7fgj99/UBER.zip?dl=1\n",
      "Resolving www.dropbox.com (www.dropbox.com)... 162.125.6.18, 2620:100:601c:18::a27d:612\n",
      "Connecting to www.dropbox.com (www.dropbox.com)|162.125.6.18|:443... connected.\n",
      "HTTP request sent, awaiting response... 302 Found\n",
      "Location: /scl/fi/vetj6tgcux8e309swquxs/UBER.zip?rlkey=oy4vx60rplorounkh9wh2waux&dl=1 [following]\n",
      "--2024-05-27 22:21:31--  https://www.dropbox.com/scl/fi/vetj6tgcux8e309swquxs/UBER.zip?rlkey=oy4vx60rplorounkh9wh2waux&dl=1\n",
      "Reusing existing connection to www.dropbox.com:443.\n",
      "HTTP request sent, awaiting response... 302 Found\n",
      "Location: https://uc649e00428177d70c2680aa5b94.dl.dropboxusercontent.com/cd/0/inline/CTs7HsjS7munveggoORfwzPYDRvZMlCQAH9LHvZnYN4-Y-xez-NoMhSESuitOwlk4qVa28IP8MtLO42ncvMIPAjScBx6dcmdE7NET8Nd7sDmai-70Qprph3HocNn6Ly5__o/file?dl=1# [following]\n",
      "--2024-05-27 22:21:31--  https://uc649e00428177d70c2680aa5b94.dl.dropboxusercontent.com/cd/0/inline/CTs7HsjS7munveggoORfwzPYDRvZMlCQAH9LHvZnYN4-Y-xez-NoMhSESuitOwlk4qVa28IP8MtLO42ncvMIPAjScBx6dcmdE7NET8Nd7sDmai-70Qprph3HocNn6Ly5__o/file?dl=1\n",
      "Resolving uc649e00428177d70c2680aa5b94.dl.dropboxusercontent.com (uc649e00428177d70c2680aa5b94.dl.dropboxusercontent.com)... 162.125.6.15, 2620:100:601c:15::a27d:60f\n",
      "Connecting to uc649e00428177d70c2680aa5b94.dl.dropboxusercontent.com (uc649e00428177d70c2680aa5b94.dl.dropboxusercontent.com)|162.125.6.15|:443... connected.\n",
      "HTTP request sent, awaiting response... 302 Found\n",
      "Location: /cd/0/inline2/CTtTcZILcxbhalTNf6k4eDSWrKSJ0Xa_XMGoWNe44W6dHlXGA_HwnRDFgFTslOsvFQ9m9xx-4aISxUm7vlCoFrl6wxGmjuyhnCP4i3VGYkO2CoeNrUY0_endcSkupKFk4P6pcNY-rWG18KY7B_93E0ct8IIPo6rwd0qqFJ7PKEAORM14wpqnPKMEAoPSh-ToPbhXlHD3RGZDO3e2fDenN5LaneFjuePlCJWeGcwb69I_jjnGbDxPkckDOadym5MwNSO4QbWlYMuTTeJUVzuRu2k4XPyVpi3Lb5KbvQtOtGP2M5nKW-mTSYOkYGHvvJE_Rd0U-qBdGINPqShfuACStuF3gUSAP9_si6wwVyS4XN2eNw/file?dl=1 [following]\n",
      "--2024-05-27 22:21:31--  https://uc649e00428177d70c2680aa5b94.dl.dropboxusercontent.com/cd/0/inline2/CTtTcZILcxbhalTNf6k4eDSWrKSJ0Xa_XMGoWNe44W6dHlXGA_HwnRDFgFTslOsvFQ9m9xx-4aISxUm7vlCoFrl6wxGmjuyhnCP4i3VGYkO2CoeNrUY0_endcSkupKFk4P6pcNY-rWG18KY7B_93E0ct8IIPo6rwd0qqFJ7PKEAORM14wpqnPKMEAoPSh-ToPbhXlHD3RGZDO3e2fDenN5LaneFjuePlCJWeGcwb69I_jjnGbDxPkckDOadym5MwNSO4QbWlYMuTTeJUVzuRu2k4XPyVpi3Lb5KbvQtOtGP2M5nKW-mTSYOkYGHvvJE_Rd0U-qBdGINPqShfuACStuF3gUSAP9_si6wwVyS4XN2eNw/file?dl=1\n",
      "Reusing existing connection to uc649e00428177d70c2680aa5b94.dl.dropboxusercontent.com:443.\n",
      "HTTP request sent, awaiting response... 200 OK\n",
      "Length: 1820227 (1.7M) [application/binary]\n",
      "Saving to: ‘data_10k/UBER.zip’\n",
      "\n",
      "data_10k/UBER.zip   100%[===================>]   1.74M  --.-KB/s    in 0.06s   \n",
      "\n",
      "2024-05-27 22:21:31 (30.7 MB/s) - ‘data_10k/UBER.zip’ saved [1820227/1820227]\n",
      "\n",
      "Archive:  data_10k/UBER.zip\n",
      "replace data_10k/UBER/UBER_2021.html? [y]es, [n]o, [A]ll, [N]one, [r]ename: ^C\n"
     ]
    }
   ],
   "source": [
    "# download files\n",
    "!mkdir data_10k\n",
    "!wget \"https://www.dropbox.com/s/948jr9cfs7fgj99/UBER.zip?dl=1\" -O data_10k/UBER.zip\n",
    "!unzip data_10k/UBER.zip -d data_10k"
   ]
  },
  {
   "cell_type": "code",
   "execution_count": 5,
   "id": "e2bb1941-883e-45a1-97b2-3aff1f3ffa4c",
   "metadata": {},
   "outputs": [
    {
     "data": {
      "text/html": [
       "\n",
       "      <style>\n",
       "        pre {\n",
       "            white-space: pre-wrap;\n",
       "        }\n",
       "      </style>\n",
       "  "
      ],
      "text/plain": [
       "<IPython.core.display.HTML object>"
      ]
     },
     "metadata": {},
     "output_type": "display_data"
    },
    {
     "name": "stderr",
     "output_type": "stream",
     "text": [
      "[nltk_data] Downloading package averaged_perceptron_tagger to\n",
      "[nltk_data]     /teamspace/studios/this_studio/nltk_data...\n",
      "[nltk_data]   Package averaged_perceptron_tagger is already up-to-\n",
      "[nltk_data]       date!\n"
     ]
    },
    {
     "data": {
      "text/plain": [
       "True"
      ]
     },
     "execution_count": 5,
     "metadata": {},
     "output_type": "execute_result"
    }
   ],
   "source": [
    "import nltk\n",
    "nltk.download('averaged_perceptron_tagger')"
   ]
  },
  {
   "cell_type": "code",
   "execution_count": 46,
   "id": "ca58bf82-46e5-489d-a73a-0871e5b1e4bf",
   "metadata": {},
   "outputs": [
    {
     "data": {
      "text/html": [
       "\n",
       "      <style>\n",
       "        pre {\n",
       "            white-space: pre-wrap;\n",
       "        }\n",
       "      </style>\n",
       "  "
      ],
      "text/plain": [
       "<IPython.core.display.HTML object>"
      ]
     },
     "metadata": {},
     "output_type": "display_data"
    }
   ],
   "source": [
    "'''\n",
    "HTML files requires Unstrucutred Library (https://github.com/Unstructured-IO/unstructured)\n",
    "\n",
    "'''\n",
    "\n",
    "from llama_index.readers.file import UnstructuredReader, HTMLTagReader\n",
    "from llama_index.core import SimpleDirectoryReader\n",
    "from pathlib import Path\n",
    "\n",
    "years = [2022, 2021, 2020, 2019]\n",
    "\n",
    "#loader = UnstructuredReader()\n",
    "loader = HTMLTagReader(tag=\"div\")\n",
    "parser = HTMLTagReader()\n",
    "file_extractor = {\".html\": parser}\n",
    "\n",
    "doc_set = {}\n",
    "all_docs = []\n",
    "for year in years:\n",
    "    file = Path(f\"data_10k/UBER/UBER_{year}.html\")\n",
    "    doc = loader.load_data(file)\n",
    "    #print(doc)\n",
    "    #doc_sdr = SimpleDirectoryReader(\"data_10k/UBER/\", file_extractor=file_extractor).load_data()\n",
    "    #print(doc_sdr)\n",
    "    doc_set[year] = doc\n",
    "    all_docs.extend(doc)"
   ]
  },
  {
   "cell_type": "code",
   "execution_count": 48,
   "id": "f39decf7-edab-4266-bd1c-092766f1cb76",
   "metadata": {},
   "outputs": [
    {
     "data": {
      "text/html": [
       "\n",
       "      <style>\n",
       "        pre {\n",
       "            white-space: pre-wrap;\n",
       "        }\n",
       "      </style>\n",
       "  "
      ],
      "text/plain": [
       "<IPython.core.display.HTML object>"
      ]
     },
     "metadata": {},
     "output_type": "display_data"
    }
   ],
   "source": [
    "#create vector indices \n",
    "from llama_index.core import VectorStoreIndex, StorageContext\n",
    "from llama_index.embeddings.openai import OpenAIEmbedding\n",
    "from llama_index.llms.openai import OpenAI\n",
    "from llama_index.core import Settings\n",
    "\n",
    "Settings.chunk_size = 512\n",
    "Settings.chunk_overlap = 64\n",
    "Settings.llm = OpenAI(model=\"gpt-3.5-turbo\")\n",
    "Settings.embed_model = OpenAIEmbedding(model=\"text-embedding-3-small\")\n",
    "\n",
    "index_set = {}\n",
    "for year in years:\n",
    "    storage_context = StorageContext.from_defaults()\n",
    "    cur_index = VectorStoreIndex.from_documents(\n",
    "        doc_set[year],\n",
    "        storage_context=storage_context,\n",
    "    )\n",
    "    index_set[year] = cur_index\n",
    "    storage_context.persist(persist_dir=f\"./storage_10k/{year}\")"
   ]
  },
  {
   "cell_type": "code",
   "execution_count": 50,
   "id": "117ef951-92c3-40f0-b459-e81e355838de",
   "metadata": {},
   "outputs": [
    {
     "data": {
      "text/html": [
       "\n",
       "      <style>\n",
       "        pre {\n",
       "            white-space: pre-wrap;\n",
       "        }\n",
       "      </style>\n",
       "  "
      ],
      "text/plain": [
       "<IPython.core.display.HTML object>"
      ]
     },
     "metadata": {},
     "output_type": "display_data"
    }
   ],
   "source": [
    "# sample the index\n",
    "# Load indices from disk\n",
    "from llama_index.core import load_index_from_storage\n",
    "\n",
    "index_set = {}\n",
    "for year in years:\n",
    "    storage_context = StorageContext.from_defaults(\n",
    "        persist_dir=f\"./storage_10k/{year}\"\n",
    "    )\n",
    "    cur_index = load_index_from_storage(\n",
    "        storage_context,\n",
    "    )\n",
    "    index_set[year] = cur_index"
   ]
  },
  {
   "cell_type": "code",
   "execution_count": 51,
   "id": "c652032e-9676-4298-a735-b28389b2822f",
   "metadata": {},
   "outputs": [
    {
     "data": {
      "text/html": [
       "\n",
       "      <style>\n",
       "        pre {\n",
       "            white-space: pre-wrap;\n",
       "        }\n",
       "      </style>\n",
       "  "
      ],
      "text/plain": [
       "<IPython.core.display.HTML object>"
      ]
     },
     "metadata": {},
     "output_type": "display_data"
    }
   ],
   "source": [
    "# sub question querying \n",
    "'''\n",
    "Decomposes the query into sub-query each answered by an vector \n",
    "\n",
    "'''\n",
    "\n",
    "from llama_index.core.tools import QueryEngineTool, ToolMetadata\n",
    "\n",
    "individual_query_engine_tools = [\n",
    "    QueryEngineTool(\n",
    "        query_engine = index_set[year].as_query_engine(),\n",
    "        metadata = ToolMetadata(\n",
    "            name = f\"vector_index_{year}\",\n",
    "            description=(\n",
    "                \"useful for when you want to answer queries about the\"\n",
    "                f\" {year} SEC 10-K for Uber\"\n",
    "            ),\n",
    "        ),\n",
    "    )\n",
    "    for year in years\n",
    "]"
   ]
  },
  {
   "cell_type": "code",
   "execution_count": 52,
   "id": "60eaface-de41-4351-bc89-6ddbe02f651a",
   "metadata": {},
   "outputs": [
    {
     "data": {
      "text/html": [
       "\n",
       "      <style>\n",
       "        pre {\n",
       "            white-space: pre-wrap;\n",
       "        }\n",
       "      </style>\n",
       "  "
      ],
      "text/plain": [
       "<IPython.core.display.HTML object>"
      ]
     },
     "metadata": {},
     "output_type": "display_data"
    }
   ],
   "source": [
    "from llama_index.core.query_engine import SubQuestionQueryEngine\n",
    "\n",
    "query_engine = SubQuestionQueryEngine.from_defaults(\n",
    "    query_engine_tools = individual_query_engine_tools,\n",
    ")"
   ]
  },
  {
   "cell_type": "code",
   "execution_count": 53,
   "id": "c279caf6-6832-419f-be2b-140945a34629",
   "metadata": {},
   "outputs": [
    {
     "data": {
      "text/html": [
       "\n",
       "      <style>\n",
       "        pre {\n",
       "            white-space: pre-wrap;\n",
       "        }\n",
       "      </style>\n",
       "  "
      ],
      "text/plain": [
       "<IPython.core.display.HTML object>"
      ]
     },
     "metadata": {},
     "output_type": "display_data"
    }
   ],
   "source": [
    "query_engine_tool = QueryEngineTool(\n",
    "    query_engine = query_engine,\n",
    "    metadata = ToolMetadata(\n",
    "        name=\"sub_question_query_engine\",\n",
    "        description=(\n",
    "            \"useful for when you want to answer queries that require analyzing\"\n",
    "            \" multiple SEC 10-K documents for Uber\"\n",
    "        ),\n",
    "    ),\n",
    ")"
   ]
  },
  {
   "cell_type": "code",
   "execution_count": 54,
   "id": "bdb3956d-0b75-4445-8b59-3d78f5d3a19e",
   "metadata": {},
   "outputs": [
    {
     "data": {
      "text/html": [
       "\n",
       "      <style>\n",
       "        pre {\n",
       "            white-space: pre-wrap;\n",
       "        }\n",
       "      </style>\n",
       "  "
      ],
      "text/plain": [
       "<IPython.core.display.HTML object>"
      ]
     },
     "metadata": {},
     "output_type": "display_data"
    }
   ],
   "source": [
    "#combine them\n",
    "tools = individual_query_engine_tools + [query_engine_tool]"
   ]
  },
  {
   "cell_type": "code",
   "execution_count": 55,
   "id": "60d846c3-f182-48bb-87fa-9652eb327086",
   "metadata": {},
   "outputs": [
    {
     "data": {
      "text/html": [
       "\n",
       "      <style>\n",
       "        pre {\n",
       "            white-space: pre-wrap;\n",
       "        }\n",
       "      </style>\n",
       "  "
      ],
      "text/plain": [
       "<IPython.core.display.HTML object>"
      ]
     },
     "metadata": {},
     "output_type": "display_data"
    }
   ],
   "source": [
    "from llama_index.agent.openai import OpenAIAgent\n",
    "\n",
    "agent = OpenAIAgent.from_tools(tools, verbose=True)"
   ]
  },
  {
   "cell_type": "code",
   "execution_count": 56,
   "id": "26e721ab-8258-4350-9baf-318a1398f17a",
   "metadata": {},
   "outputs": [
    {
     "data": {
      "text/html": [
       "\n",
       "      <style>\n",
       "        pre {\n",
       "            white-space: pre-wrap;\n",
       "        }\n",
       "      </style>\n",
       "  "
      ],
      "text/plain": [
       "<IPython.core.display.HTML object>"
      ]
     },
     "metadata": {},
     "output_type": "display_data"
    },
    {
     "name": "stdout",
     "output_type": "stream",
     "text": [
      "Added user message to memory: hi, i am bob\n",
      "Hello Bob! How can I assist you today?\n"
     ]
    }
   ],
   "source": [
    "#testing \n",
    "response = agent.chat(\"hi, i am bob\")\n",
    "print(str(response))"
   ]
  },
  {
   "cell_type": "code",
   "execution_count": 57,
   "id": "81d16a5d-9bce-4bf5-8837-96f80b6b359a",
   "metadata": {},
   "outputs": [
    {
     "data": {
      "text/html": [
       "\n",
       "      <style>\n",
       "        pre {\n",
       "            white-space: pre-wrap;\n",
       "        }\n",
       "      </style>\n",
       "  "
      ],
      "text/plain": [
       "<IPython.core.display.HTML object>"
      ]
     },
     "metadata": {},
     "output_type": "display_data"
    },
    {
     "name": "stdout",
     "output_type": "stream",
     "text": [
      "Added user message to memory: What were some of the biggest risk factors in 2020 for Uber?\n",
      "=== Calling Function ===\n",
      "Calling function: vector_index_2020 with args: {\"input\":\"biggest risk factors\"}\n",
      "Got output: The biggest risk factors for the company are typically outlined in the \"Risk Factors\" section of its annual report or 10-K filing. These factors can vary depending on the company and its industry, but they generally highlight the key challenges and uncertainties that could negatively impact the business, financial condition, or future prospects of the company.\n",
      "========================\n",
      "\n",
      "For specific details on the biggest risk factors for Uber in 2020, you may refer to the \"Risk Factors\" section of their 2020 SEC 10-K filing. This section typically outlines the key challenges and uncertainties that could negatively impact Uber's business, financial condition, or future prospects.\n"
     ]
    }
   ],
   "source": [
    "response = agent.chat(\n",
    "    \"What were some of the biggest risk factors in 2020 for Uber?\"\n",
    ")\n",
    "print(str(response))"
   ]
  },
  {
   "cell_type": "code",
   "execution_count": 59,
   "id": "fdb3ac02-73a3-477d-b26f-8a75cd366340",
   "metadata": {},
   "outputs": [
    {
     "data": {
      "text/html": [
       "\n",
       "      <style>\n",
       "        pre {\n",
       "            white-space: pre-wrap;\n",
       "        }\n",
       "      </style>\n",
       "  "
      ],
      "text/plain": [
       "<IPython.core.display.HTML object>"
      ]
     },
     "metadata": {},
     "output_type": "display_data"
    },
    {
     "name": "stdout",
     "output_type": "stream",
     "text": [
      "Added user message to memory: Compare/contrast in detail the risk factors described in the Uber 10-K across years. Give answer in bullet points.\n",
      "=== Calling Function ===\n",
      "Calling function: sub_question_query_engine with args: {\"input\":\"compare and contrast risk factors in Uber 10-K across years\"}\n",
      "Generated 4 sub questions.\n",
      "\u001b[1;3;38;2;237;90;200m[vector_index_2022] Q: What are the risk factors mentioned in the 2022 SEC 10-K for Uber?\n",
      "\u001b[0m\u001b[1;3;38;2;90;149;237m[vector_index_2021] Q: What are the risk factors mentioned in the 2021 SEC 10-K for Uber?\n",
      "\u001b[0m\u001b[1;3;38;2;11;159;203m[vector_index_2020] Q: What are the risk factors mentioned in the 2020 SEC 10-K for Uber?\n",
      "\u001b[0m\u001b[1;3;38;2;155;135;227m[vector_index_2019] Q: What are the risk factors mentioned in the 2019 SEC 10-K for Uber?\n",
      "\u001b[0m\u001b[1;3;38;2;11;159;203m[vector_index_2020] A: The risk factors mentioned in the 2020 SEC 10-K for Uber include uncertainties and complexities arising from the regulatory environment, which pose challenges to the company's business and operating model.\n",
      "\u001b[0m\u001b[1;3;38;2;155;135;227m[vector_index_2019] A: The risk factors mentioned in the 2019 SEC 10-K for Uber include risks related to their business operations, as well as legal and regulatory risks associated with their business activities.\n",
      "\u001b[0m\u001b[1;3;38;2;90;149;237m[vector_index_2021] A: The risk factors mentioned in the 2021 SEC 10-K for Uber include uncertainties and complexities arising from the regulatory environment, which pose challenges to the company's business and operating model.\n",
      "\u001b[0m\u001b[1;3;38;2;237;90;200m[vector_index_2022] A: The risk factors mentioned in the 2022 SEC 10-K for Uber include uncertainties and complexities arising from the regulatory environment, which pose challenges to the company's business and operating model.\n",
      "\u001b[0mGot output: The risk factors mentioned in the 2019 SEC 10-K for Uber include risks related to their business operations, as well as legal and regulatory risks associated with their business activities. In the subsequent years (2020, 2021, and 2022), the risk factors highlighted in the SEC 10-K for Uber consistently revolve around uncertainties and complexities arising from the regulatory environment, which present challenges to the company's business and operating model.\n",
      "========================\n",
      "\n",
      "Here is a detailed comparison of the risk factors described in the Uber 10-K filings across different years:\n",
      "\n",
      "2019:\n",
      "- Risks related to business operations were highlighted.\n",
      "- Legal and regulatory risks associated with business activities were mentioned.\n",
      "\n",
      "2020, 2021, and 2022:\n",
      "- The risk factors consistently revolved around uncertainties and complexities arising from the regulatory environment.\n",
      "- Challenges related to the regulatory environment were emphasized, impacting Uber's business and operating model.\n",
      "\n",
      "For more specific details on the individual risk factors outlined in each year's filing, you may refer to the respective \"Risk Factors\" sections of the Uber 10-K documents.\n"
     ]
    }
   ],
   "source": [
    "# across the years \n",
    "cross_query_str = (\n",
    "    \"Compare/contrast in detail the risk factors described in the Uber 10-K across\"\n",
    "    \" years. Give answer in bullet points.\"\n",
    ")\n",
    "\n",
    "response = agent.chat(cross_query_str)\n",
    "print(str(response))"
   ]
  },
  {
   "cell_type": "code",
   "execution_count": null,
   "id": "efe96cff-e8c8-486f-9c23-51f89116ea64",
   "metadata": {},
   "outputs": [],
   "source": []
  }
 ],
 "metadata": {
  "kernelspec": {
   "display_name": "Python 3",
   "language": "python",
   "name": "python3"
  },
  "language_info": {
   "codemirror_mode": {
    "name": "ipython",
    "version": 3
   },
   "file_extension": ".py",
   "mimetype": "text/x-python",
   "name": "python",
   "nbconvert_exporter": "python",
   "pygments_lexer": "ipython3",
   "version": "3.10.10"
  }
 },
 "nbformat": 4,
 "nbformat_minor": 5
}
