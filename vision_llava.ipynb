{
 "cells": [
  {
   "cell_type": "code",
   "execution_count": 1,
   "id": "939c9e8a-2b46-4b7f-a962-32b60436679b",
   "metadata": {},
   "outputs": [],
   "source": [
    "import base64\n",
    "\n",
    "def encode_image(image_path):\n",
    "    with open(image_path, \"rb\") as image_file:\n",
    "        return base64.b64encode(image_file.read()).decode('utf-8')"
   ]
  },
  {
   "cell_type": "code",
   "execution_count": 2,
   "id": "7f653413-353e-40f7-8dc5-a9288219afba",
   "metadata": {},
   "outputs": [],
   "source": [
    "encoded_image = encode_image('hw1.png')"
   ]
  },
  {
   "cell_type": "code",
   "execution_count": 3,
   "id": "81988eb3-8c13-47fb-be09-b30d12b785e0",
   "metadata": {},
   "outputs": [
    {
     "name": "stdout",
     "output_type": "stream",
     "text": [
      "<Response [200]>\n"
     ]
    }
   ],
   "source": [
    "import requests\n",
    "\n",
    "url = 'http://localhost:11434/api/generate'\n",
    "payload = { \"model\": \"llava\",\n",
    "              \"prompt\":\"What is in this picture?\",\n",
    "              \"images\": [encoded_image]}\n",
    "\n",
    "res = requests.post(url, json=payload)\n",
    "\n",
    "print(res)"
   ]
  },
  {
   "cell_type": "code",
   "execution_count": 16,
   "id": "047b0ac4-bb7a-4cfc-9797-0b53c738cb6f",
   "metadata": {},
   "outputs": [],
   "source": [
    "result = res.text"
   ]
  },
  {
   "cell_type": "code",
   "execution_count": 17,
   "id": "0edad08d-2a29-4b0c-be60-43d00b54c813",
   "metadata": {},
   "outputs": [],
   "source": [
    "result = result.split('\\n')"
   ]
  },
  {
   "cell_type": "code",
   "execution_count": 30,
   "id": "a498990a-0254-4305-b936-54b55651b762",
   "metadata": {},
   "outputs": [
    {
     "name": "stdout",
     "output_type": "stream",
     "text": [
      "[' The', ' image', ' shows', ' a', ' page', ' from', ' a', ' book', ' or', ' manual', '.', ' It', ' is', ' labeled', ' \\\\', 'Pro', 'blem', ' I', '\\\\', ' with', ' the', ' sub', 'title', ' \\\\', 'Per', 'pet', 'ron', ' Con', 'ver', 'gence', '.\\\\', ' Below', ' this', ' heading', '', ' there', ' is', ' a', ' brief', ' description', ' of', ' the', ' problem', '', '\\\\n', '\\\\n', '\\\\', 'Rec', 'all', ' Per', 'pet', 'ron', ' algorithm', ' that', ' saw', ' capital', ' markets', ' demonstrate', ' an', ' average', ' ', '8', '%', ' annual', ' return', ' without', ' divid', 'ends', ' in', ' history', '.', ' Capital', ' Mark', 'ets', ' have', ' now', ' determined', ' a', ' formula', ' for', ' perpet', 'ual', ' returns', ' to', ' provide', ' a', ' stable', ' rate', ' of', ' return', ' (', '2', '.', '4', '%)', ' over', ' time', ' without', ' inflation', '', ' or', ' taxes', '.', ' Given', ' your', ' ability', ' to', ' predict', ' the', ' future', '', ' can', ' you', ' describe', ' what', ' the', ' next', ' ', '1', '0', ' years', ' will', ' look', ' like', '?\\\\', '\\\\n', '\\\\n', 'The', ' problem', ' asks', ' the', ' reader', ' to', ' create', ' an', ' algorithm', ' that', ' predict', 's', ' the', ' outcome', ' of', ' capital', ' markets', ' over', ' the', ' next', ' ', '1', '0', ' years', '', ' given', ' the', ' stable', ' rate', ' of', ' return', ' without', ' inflation', ' or', ' taxes', '.', '\\\\n', '\\\\n', 'At', ' the', ' bottom', ' of', ' the', ' page', '', ' there', ' are', ' some', ' mathematical', ' equations', ' and', ' symbols', ' indicating', ' the', ' use', ' of', ' calcul', 'us', ' or', ' algorithms', ' in', ' this', ' context', '.', ' The', ' specific', ' details', ' of', ' these', ' equations', ' are', ' not', ' visible', ' in', ' the', ' image', '.', ' ', '']\n"
     ]
    }
   ],
   "source": [
    "sentence = []\n",
    "for responce in result:\n",
    "    try:\n",
    "        res = responce.split(',')\n",
    "        res = res[2].split(':')[1]\n",
    "        res = res.split('\"')[1]\n",
    "        sentence.append(res)\n",
    "    except:\n",
    "        continue\n",
    "\n",
    "combined_sent = ''\n",
    "for word in sentence:\n",
    "    combined_sent += word\n",
    "    combined_sent += \" \"\n",
    "\n",
    "print(combined_sent)"
   ]
  },
  {
   "cell_type": "code",
   "execution_count": 38,
   "id": "73044f25-328c-4f88-b533-21dfb772090e",
   "metadata": {},
   "outputs": [
    {
     "name": "stdout",
     "output_type": "stream",
     "text": [
      "<Response [200]>\n"
     ]
    }
   ],
   "source": [
    "url = 'http://localhost:11434/api/generate'\n",
    "payload = { \"model\": \"llama3\",\n",
    "              \"prompt\":\"I have encoded the following image in base64. Try to analyse the image and tell me what is written in it? \" + str(encoded_image) ,}\n",
    "\n",
    "res = requests.post(url, json=payload)\n",
    "\n",
    "print(res)"
   ]
  },
  {
   "cell_type": "code",
   "execution_count": 39,
   "id": "a865b101-0a3f-4d13-810e-294ad4e9d6b3",
   "metadata": {},
   "outputs": [
    {
     "name": "stdout",
     "output_type": "stream",
     "text": [
      "['What', ' a', ' fascinating', ' challenge', '!\\\\n\\\\n', 'The', ' encoded', ' string', ' appears', ' to', ' be', ' a', ' base', '64', '-encoded', ' image', '.', ' I', \"'ll\", ' do', ' my', ' best', ' to', ' analyze', ' it', '.\\\\n\\\\n', '**', 'Initial', ' Observ', 'ations', '**\\\\n\\\\n', '1', '.', ' The', ' string', ' is', ' very', ' long', ' (\\\\u003e', ' ', '100', '00', ' characters', ')', ' and', ' has', ' repeated', ' patterns', '.\\\\n', '2', '.', ' It', \"'s\", ' composed', ' of', ' repeating', ' blocks', ' of', ' the', ' same', ' pattern', ' (\\\\', 'AG', '7', 'J', 'z', 'F', '5', 'W', '8', '...', '\\\\', ' which', ' suggests', ' the', ' encoded', ' string', ' length', ' is', ' base', '64', '-encoded', ').\\\\n', '3', '.', ' The', ' encoded', ' string', ' seems', ' to', ' contain', ' some', ' sort', ' of', ' repetitive', ' elements', '', ' like', ' \\\\', 'base', '64', '\\\\', ' encoding', '.\\\\n\\\\n', '**', 'Image', ' Analysis', '**\\\\n\\\\n', 'Based', ' on', ' my', ' observations', '', ' I', \"'m\", ' going', ' to', ' take', ' a', ' wild', ' guess', '', ' it', ' appears', ' that', ' this', ' might', ' be', ' an', ' image', ' of', '...\\\\n\\\\n', '1', '.', ' **', 'Noise', '**', ' Given', ' the', ' repeating', ' patterns', ' and', ' seemingly', ' random', ' characters', '', ' I', ' suspect', ' this', ' might', ' be', ' a', ' representation', ' of', ' noise', ' (', 'like', ' white', ' or', ' black', ' noise', ').\\\\n', '2', '.', ' **', 'Art', 'work', '**', ' Another', ' possibility', ' is', ' that', ' this', ' is', ' some', ' sort', ' of', ' artistic', ' creation', '', ' possibly', ' a', ' digital', ' artwork', '.\\\\n', '3', '.', ' **', 'Binary', ' Data', '**', ' As', ' it', \"'s\", ' base', '64', '-encoded', '', ' there', \"'s\", ' also', ' a', ' chance', ' that', ' this', ' string', ' represents', ' binary', ' data', '.\\\\n\\\\n', '**', 'Conclusion', '**\\\\n\\\\n', 'I', \"'m\", ' not', ' confident', ' enough', ' to', ' pinpoint', ' the', ' exact', ' nature', ' of', ' the', ' image', ' without', ' more', ' context', ' or', ' information', '.', ' If', ' you', \"'d\", ' like', ' to', ' provide', ' additional', ' details', ' or', ' clarify', ' what', ' type', ' of', ' image', ' this', ' is', ' (', 'e', '.g', '.', ' a', ' specific', ' format', ' or', ' encoding', ')', ' I', \"'d\", ' be', ' happy', ' to', ' help', ' further', '!', '']\n"
     ]
    }
   ],
   "source": [
    "result = res.text\n",
    "result = result.split('\\n')\n",
    "\n",
    "sentence = []\n",
    "for responce in result:\n",
    "    try:\n",
    "        res = responce.split(',')\n",
    "        res = res[2].split(':')[1]\n",
    "        res = res.split('\"')[1]\n",
    "        sentence.append(res)\n",
    "    except:\n",
    "        continue\n",
    "\n",
    "print(sentence)"
   ]
  },
  {
   "cell_type": "code",
   "execution_count": null,
   "id": "aafc40ea-2c2f-4d47-81ca-16d6a3b00cd5",
   "metadata": {},
   "outputs": [],
   "source": []
  }
 ],
 "metadata": {
  "kernelspec": {
   "display_name": "Python 3",
   "language": "python",
   "name": "python3"
  },
  "language_info": {
   "codemirror_mode": {
    "name": "ipython",
    "version": 3
   },
   "file_extension": ".py",
   "mimetype": "text/x-python",
   "name": "python",
   "nbconvert_exporter": "python",
   "pygments_lexer": "ipython3",
   "version": "3.10.10"
  }
 },
 "nbformat": 4,
 "nbformat_minor": 5
}
