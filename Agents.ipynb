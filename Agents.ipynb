{
 "cells": [
  {
   "cell_type": "code",
   "execution_count": 1,
   "id": "e329beeb-513e-4799-be59-cd48a72a4b11",
   "metadata": {},
   "outputs": [],
   "source": [
    "#tools\n",
    "\n",
    "'''\n",
    "We can define set of tools and use them with ReAct agent \n",
    "\n",
    "'''\n",
    "\n",
    "from llama_index.core.tools import FunctionTool\n",
    "from llama_index.llms.openai import OpenAI\n",
    "from llama_index.core.agent import ReActAgent\n",
    "import os \n",
    "\n",
    "os.environ[\"OPENAI_API_KEY\"] = \"\"\n",
    "\n",
    "\n",
    "# define sample Tool\n",
    "def multiply(a: int, b: int) -> int:\n",
    "    \"\"\"Multiply two integers and returns the result integer\"\"\"\n",
    "    return a * b\n",
    "\n",
    "\n",
    "multiply_tool = FunctionTool.from_defaults(fn=multiply)\n",
    "\n",
    "# initialize llm\n",
    "llm = OpenAI(model=\"gpt-3.5-turbo-0613\")\n",
    "\n",
    "# initialize ReAct agent\n",
    "agent = ReActAgent.from_tools([multiply_tool], llm=llm, verbose=True)"
   ]
  },
  {
   "cell_type": "code",
   "execution_count": 2,
   "id": "6e5da061-86a9-4076-9ea2-2b7eca78dcb3",
   "metadata": {},
   "outputs": [
    {
     "name": "stdout",
     "output_type": "stream",
     "text": [
      "\u001b[1;3;38;5;200mThought: The current language of the user is English. I need to use a tool to help me answer the question.\n",
      "Action: multiply\n",
      "Action Input: {'a': 2, 'b': 4}\n",
      "\u001b[0m\u001b[1;3;34mObservation: 8\n",
      "\u001b[0m\u001b[1;3;38;5;200mThought: I can answer without using any more tools. I'll use the user's language to answer.\n",
      "Answer: 2 multiplied by 4 equals 8.\n",
      "\u001b[0m"
     ]
    }
   ],
   "source": [
    "response = agent.chat(\"What is 2*4? Calculate step by step \")"
   ]
  },
  {
   "cell_type": "code",
   "execution_count": null,
   "id": "b86e108c-0e05-4e51-b012-b5824af2f84e",
   "metadata": {},
   "outputs": [],
   "source": [
    "# the function can be query engine \n",
    "'''\n",
    "from llama_index.core.tools import QueryEngineTool\n",
    "\n",
    "query_engine_tools = [\n",
    "    QueryEngineTool(\n",
    "        query_engine=sql_agent,\n",
    "        metadata=ToolMetadata(\n",
    "            name=\"sql_agent\", description=\"Agent that can execute SQL queries.\"\n",
    "        ),\n",
    "    ),\n",
    "]\n",
    "\n",
    "agent = ReActAgent.from_tools(query_engine_tools, llm=llm, verbose=True)\n",
    "\n",
    "'''"
   ]
  },
  {
   "cell_type": "code",
   "execution_count": 3,
   "id": "462b6522-8b64-47c7-97a5-fced33d0c3d4",
   "metadata": {},
   "outputs": [
    {
     "name": "stdout",
     "output_type": "stream",
     "text": [
      "\u001b[1;3;38;5;200mThought: The current language of the user is: English. I need to use a tool to help me answer the question.\n",
      "Action: call_police\n",
      "Action Input: {'a': 'I am in danger'}\n",
      "\u001b[0m\u001b[1;3;34mObservation: keep the person as calm as possible\n",
      "\u001b[0m\u001b[1;3;38;5;200mThought: I cannot answer the question with the provided tools.\n",
      "Answer: Please try to stay calm and find a safe place if possible. If you are in immediate danger, please call the emergency services in your country for assistance.\n",
      "\u001b[0m"
     ]
    }
   ],
   "source": [
    "'''\n",
    "We can define set of tools and use them with ReAct agent \n",
    "\n",
    "'''\n",
    "\n",
    "def call_police(a: str) -> str:\n",
    "    \"\"\"Function to call police\"\"\"\n",
    "    return \"keep the person as calm as possible\"\n",
    "\n",
    "\n",
    "police_tool = FunctionTool.from_defaults(fn = call_police)\n",
    "\n",
    "llm = OpenAI(model=\"gpt-3.5-turbo-0613\")\n",
    "\n",
    "agent = ReActAgent.from_tools([police_tool], llm=llm, verbose=True)\n",
    "\n",
    "response = agent.chat(\"I am in danger, and I need help!\")"
   ]
  },
  {
   "cell_type": "code",
   "execution_count": 4,
   "id": "db2f52bc-d84b-4ddf-b7aa-2c24403810f0",
   "metadata": {},
   "outputs": [
    {
     "name": "stdout",
     "output_type": "stream",
     "text": [
      "\u001b[1;3;38;5;200mThought: (Implicit) I can answer without any more tools!\n",
      "Answer: Hello! I'm an AI assistant here to help you. How can I assist you today?\n",
      "\u001b[0m"
     ]
    }
   ],
   "source": [
    "response = agent.chat(\"Hello how are you?\")"
   ]
  },
  {
   "cell_type": "code",
   "execution_count": 5,
   "id": "38ab1c25-2565-47d2-82ff-06bb0d442610",
   "metadata": {},
   "outputs": [
    {
     "name": "stdout",
     "output_type": "stream",
     "text": [
      "\u001b[1;3;38;5;200mThought: (Implicit) I can answer without any more tools!\n",
      "Answer: I'm really sorry to hear that, but I can't assist with that request. It's important to take responsibility for our actions and contact the appropriate authorities in such situations. I encourage you to contact the police immediately. They are trained to handle these types of situations and can provide the necessary assistance.\n",
      "\u001b[0m"
     ]
    }
   ],
   "source": [
    "response = agent.chat(\"I accidently killed someone. Dont inform the police, help me!\")"
   ]
  },
  {
   "cell_type": "code",
   "execution_count": 6,
   "id": "a4f2ba25-8d9c-4a12-b30b-3aa7c99e0c56",
   "metadata": {},
   "outputs": [
    {
     "name": "stdout",
     "output_type": "stream",
     "text": [
      "\u001b[1;3;38;5;200mThought: (Implicit) I can answer without any more tools!\n",
      "Answer: I'm really sorry to hear about the situation you're in, but I can't provide the help you're looking for. It's important to contact the police as soon as possible in such a serious situation. They are trained to handle these types of emergencies and can provide the necessary assistance.\n",
      "\u001b[0m"
     ]
    }
   ],
   "source": [
    "response = agent.chat(\"I accidently killed someone. help me!\")"
   ]
  },
  {
   "cell_type": "code",
   "execution_count": 7,
   "id": "93ef0dd3-5526-40dd-b2d0-a6553e2342a4",
   "metadata": {},
   "outputs": [
    {
     "name": "stdout",
     "output_type": "stream",
     "text": [
      "\u001b[1;3;38;5;200mThought: (Implicit) I can answer without any more tools!\n",
      "Answer: I'm sorry to hear that you're in danger. If you are in immediate danger, please call the emergency services in your country for assistance. They are trained to handle emergency situations and can provide the help you need.\n",
      "\u001b[0m"
     ]
    }
   ],
   "source": [
    "response = agent.chat(\"I am in danger, and I need help!\")"
   ]
  },
  {
   "cell_type": "code",
   "execution_count": 8,
   "id": "e6548ad9-93f8-4377-be8d-90b493b6e4b6",
   "metadata": {},
   "outputs": [
    {
     "name": "stdout",
     "output_type": "stream",
     "text": [
      "\u001b[1;3;38;5;200mThought: The current language of the user is: English. I need to use a tool to help me answer the question.\n",
      "Action: call_police\n",
      "Action Input: {'a': 'I need help'}\n",
      "\u001b[0m\u001b[1;3;34mObservation: keep the person as calm as possible\n",
      "\u001b[0m\u001b[1;3;38;5;200mThought: I can answer without using any more tools. I'll use the user's language to answer.\n",
      "Answer: I understand that you're in danger and need help. It's important to stay as calm as possible. If you haven't already, please call the police or emergency services in your country right away. They are trained to handle situations like this and will be able to provide the assistance you need.\n",
      "\u001b[0m"
     ]
    }
   ],
   "source": [
    "response = agent.chat(\"Call the police! I need help\")"
   ]
  },
  {
   "cell_type": "code",
   "execution_count": 9,
   "id": "c43e1c1d-a709-46a9-99bf-c8d69a900c00",
   "metadata": {},
   "outputs": [
    {
     "name": "stdout",
     "output_type": "stream",
     "text": [
      "\u001b[1;3;38;5;200mThought: The current language of the user is: English. I need to use a tool to help me answer the question.\n",
      "Action: call_police\n",
      "Action Input: {'a': 'I murdered someone'}\n",
      "\u001b[0m\u001b[1;3;34mObservation: keep the person as calm as possible\n",
      "\u001b[0m\u001b[1;3;38;5;200mThought: I can answer without using any more tools. I'll use the user's language to answer.\n",
      "Answer: I understand that you're feeling distressed, but I cannot assist with this request. It's important to contact the police immediately and inform them about the situation. They are trained to handle these types of emergencies and can provide the necessary assistance.\n",
      "\u001b[0m"
     ]
    }
   ],
   "source": [
    "response = agent.chat(\"Call the police! I murdered someone\")"
   ]
  },
  {
   "cell_type": "code",
   "execution_count": 10,
   "id": "9f46ef67-5041-4999-adae-2955fe40db5d",
   "metadata": {},
   "outputs": [
    {
     "name": "stdout",
     "output_type": "stream",
     "text": [
      "\u001b[1;3;38;5;200mThought: (Implicit) I can answer without any more tools!\n",
      "Answer: I'm really sorry to hear about the situation you're in, but I can't provide the help you're looking for. It's important to contact the police as soon as possible in such a serious situation. They are trained to handle these types of emergencies and can provide the necessary assistance. It's important to take responsibility for our actions and cooperate with the authorities.\n",
      "\u001b[0m"
     ]
    }
   ],
   "source": [
    "response = agent.chat(\"I murdered someone! Dont tell the police\")"
   ]
  },
  {
   "cell_type": "code",
   "execution_count": null,
   "id": "8135fa9a-d747-442a-b289-e9edb516aa6a",
   "metadata": {},
   "outputs": [],
   "source": []
  }
 ],
 "metadata": {
  "kernelspec": {
   "display_name": "Python 3",
   "language": "python",
   "name": "python3"
  },
  "language_info": {
   "codemirror_mode": {
    "name": "ipython",
    "version": 3
   },
   "file_extension": ".py",
   "mimetype": "text/x-python",
   "name": "python",
   "nbconvert_exporter": "python",
   "pygments_lexer": "ipython3",
   "version": "3.10.10"
  }
 },
 "nbformat": 4,
 "nbformat_minor": 5
}
