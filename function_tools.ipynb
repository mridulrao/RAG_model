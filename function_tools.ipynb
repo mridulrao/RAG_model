{
 "cells": [
  {
   "cell_type": "code",
   "execution_count": 1,
   "id": "b30a32ce-5ccd-4ef3-af3c-5ba3b333dc95",
   "metadata": {},
   "outputs": [],
   "source": [
    "'''\n",
    "\n",
    "LLMs with function calling \n",
    "\n",
    "'''\n",
    "\n",
    "import os \n",
    "os.environ[\"OPENAI_API_KEY\"] = \"\"\n",
    "\n",
    "import nest_asyncio\n",
    "nest_asyncio.apply()"
   ]
  },
  {
   "cell_type": "code",
   "execution_count": 2,
   "id": "6faf3c5e-74a6-46bc-9cd8-bae1e59f33cb",
   "metadata": {},
   "outputs": [],
   "source": [
    "import json\n",
    "from typing import Sequence, List\n",
    "\n",
    "from llama_index.llms.openai import OpenAI\n",
    "from llama_index.core.llms import ChatMessage\n",
    "from llama_index.core.tools import BaseTool, FunctionTool\n",
    "from openai.types.chat import ChatCompletionMessageToolCall"
   ]
  },
  {
   "cell_type": "code",
   "execution_count": 3,
   "id": "80ebb4bf-e69f-4df1-a2b9-3910d90d044a",
   "metadata": {},
   "outputs": [],
   "source": [
    "# simple function tool\n",
    "\n",
    "def multiply(a: int, b: int) -> int:\n",
    "    \"\"\"Multiple two integers and returns the result integer\"\"\"\n",
    "    return a * b\n",
    "\n",
    "def add(a: int, b: int) -> int:\n",
    "    \"\"\"Add two integers and returns the result integer\"\"\"\n",
    "    return a + b\n",
    "\n",
    "multiply_tool = FunctionTool.from_defaults(fn=multiply)\n",
    "add_tool = FunctionTool.from_defaults(fn=add)"
   ]
  },
  {
   "cell_type": "code",
   "execution_count": 4,
   "id": "fc26d3a8-b0b5-478d-8654-f1915f3f70d4",
   "metadata": {},
   "outputs": [],
   "source": [
    "'''\n",
    "\n",
    "Agent - Mainly comprises three things - \n",
    "1) Call LLM to decide which tool to use and with what arguments \n",
    "2) Call the tool with the arguments to obtain an output\n",
    "3) Call OpenAI to synthesize a response from the conversation context and the tool output.\n",
    "\n",
    "'''\n",
    "\n",
    "class YourOpenAIAgent:\n",
    "    def __init__(\n",
    "        self,\n",
    "        tools: Sequence[BaseTool] = [],\n",
    "        llm: OpenAI = OpenAI(temperature=0, model=\"gpt-3.5-turbo-0613\"),\n",
    "        chat_history: List[ChatMessage] = [],\n",
    "    ) -> None:\n",
    "        self._llm = llm\n",
    "        self._tools = {tool.metadata.name: tool for tool in tools}\n",
    "        self._chat_history = chat_history\n",
    "\n",
    "    # reset simply resets the context of the messages/conversation \n",
    "    def reset(self) -> None:\n",
    "        self._chat_history = []\n",
    "\n",
    "    def chat(self, message: str) -> str:\n",
    "        chat_history = self._chat_history\n",
    "        chat_history.append(ChatMessage(role=\"user\", content=message))\n",
    "        tools = [\n",
    "            tool.metadata.to_openai_tool() for _, tool in self._tools.items()\n",
    "        ]\n",
    "\n",
    "        ai_message = self._llm.chat(chat_history, tools=tools).message\n",
    "        additional_kwargs = ai_message.additional_kwargs\n",
    "        chat_history.append(ai_message)\n",
    "\n",
    "        tool_calls = additional_kwargs.get(\"tool_calls\", None)\n",
    "        # parallel function calling is now supported\n",
    "        if tool_calls is not None:\n",
    "            for tool_call in tool_calls:\n",
    "                function_message = self._call_function(tool_call)\n",
    "                chat_history.append(function_message)\n",
    "                ai_message = self._llm.chat(chat_history).message\n",
    "                chat_history.append(ai_message)\n",
    "\n",
    "        return ai_message.content\n",
    "\n",
    "    def _call_function(\n",
    "        self, tool_call: ChatCompletionMessageToolCall\n",
    "    ) -> ChatMessage:\n",
    "        id_ = tool_call.id\n",
    "        function_call = tool_call.function\n",
    "        tool = self._tools[function_call.name]\n",
    "        output = tool(**json.loads(function_call.arguments))\n",
    "        return ChatMessage(\n",
    "            name=function_call.name,\n",
    "            content=str(output),\n",
    "            role=\"tool\",\n",
    "            additional_kwargs={\n",
    "                \"tool_call_id\": id_,\n",
    "                \"name\": function_call.name,\n",
    "            },\n",
    "        )"
   ]
  },
  {
   "cell_type": "code",
   "execution_count": 5,
   "id": "5948173e-4f23-4350-922c-a30955073fc1",
   "metadata": {},
   "outputs": [],
   "source": [
    "agent = YourOpenAIAgent(tools=[multiply_tool, add_tool])"
   ]
  },
  {
   "cell_type": "code",
   "execution_count": 6,
   "id": "3b6fb8ec-8af2-4715-ad8e-cf0abff4f887",
   "metadata": {},
   "outputs": [
    {
     "data": {
      "text/plain": [
       "'Hello! How can I assist you today?'"
      ]
     },
     "execution_count": 6,
     "metadata": {},
     "output_type": "execute_result"
    }
   ],
   "source": [
    "agent.chat(\"Hi\")"
   ]
  },
  {
   "cell_type": "code",
   "execution_count": 7,
   "id": "a4a5291b-87be-4e8e-b0fe-10cd6f570697",
   "metadata": {},
   "outputs": [
    {
     "data": {
      "text/plain": [
       "'The product of 2123 multiplied by 215123 is 456,706,129.'"
      ]
     },
     "execution_count": 7,
     "metadata": {},
     "output_type": "execute_result"
    }
   ],
   "source": [
    "agent.chat(\"What is 2123 * 215123\")"
   ]
  },
  {
   "cell_type": "code",
   "execution_count": 8,
   "id": "c7d12ef7-0598-489a-83c2-833365c45b37",
   "metadata": {},
   "outputs": [
    {
     "name": "stdout",
     "output_type": "stream",
     "text": [
      "Added user message to memory: What is (121 * 3) + 42?\n",
      "=== Calling Function ===\n",
      "Calling function: multiply with args: {\n",
      "  \"a\": 121,\n",
      "  \"b\": 3\n",
      "}\n",
      "Got output: 363\n",
      "========================\n",
      "\n",
      "=== Calling Function ===\n",
      "Calling function: add with args: {\n",
      "  \"a\": 363,\n",
      "  \"b\": 42\n",
      "}\n",
      "Got output: 405\n",
      "========================\n",
      "\n",
      "(121 * 3) + 42 is equal to 405.\n"
     ]
    }
   ],
   "source": [
    "# Better Function \n",
    "\n",
    "from llama_index.agent.openai import OpenAIAgent\n",
    "from llama_index.llms.openai import OpenAI\n",
    "\n",
    "llm = OpenAI(model=\"gpt-3.5-turbo-0613\")\n",
    "agent = OpenAIAgent.from_tools(\n",
    "    [multiply_tool, add_tool], llm=llm, verbose=True\n",
    ")\n",
    "\n",
    "response = agent.chat(\"What is (121 * 3) + 42?\")\n",
    "print(str(response))"
   ]
  },
  {
   "cell_type": "code",
   "execution_count": 9,
   "id": "637d8205-6ea2-4eb3-9ecd-f72bba9e715a",
   "metadata": {},
   "outputs": [],
   "source": [
    "# other type of functions \n",
    "def call_police() -> str:\n",
    "    \"\"\"Calls police in danger/problem/assitance\"\"\"\n",
    "    return \"Keep the person calm and tell police has been notified\"\n",
    "\n",
    "def call_emergency_contacts() -> str:\n",
    "    \"\"\"Calls emergency contact person\"\"\"\n",
    "    return \"Keep the person calm and tell your emergency people have been notified\"\n",
    "\n",
    "def call_ambulance() -> str:\n",
    "    \"\"\"Calls ambulance in need of help\"\"\"\n",
    "    return \"Keep the person calm and tell ambulance is nearby\"\n",
    "\n",
    "\n",
    "police_tool = FunctionTool.from_defaults(fn = call_police)\n",
    "emergency_tool = FunctionTool.from_defaults(fn = call_emergency_contacts)\n",
    "ambulance_tool = FunctionTool.from_defaults(fn = call_ambulance)\n",
    "\n",
    "\n",
    "llm = OpenAI(model=\"gpt-3.5-turbo-0613\")\n",
    "agent = OpenAIAgent.from_tools(\n",
    "    [police_tool, emergency_tool, ambulance_tool], llm=llm, verbose=True\n",
    ")\n",
    "\n"
   ]
  },
  {
   "cell_type": "code",
   "execution_count": 10,
   "id": "2c89ff26-0efc-4303-8d2a-93565a5b0b18",
   "metadata": {},
   "outputs": [
    {
     "name": "stdout",
     "output_type": "stream",
     "text": [
      "Added user message to memory: I got caught up in an accident, my leg hurts. Help!\n",
      "=== Calling Function ===\n",
      "Calling function: call_ambulance with args: {}\n",
      "Got output: Keep the person calm and tell ambulance is nearby\n",
      "========================\n",
      "\n",
      "I'm sorry to hear that you've been in an accident and that your leg hurts. I've called an ambulance for you. They should be arriving shortly. In the meantime, try to stay calm and avoid moving too much. Help is on the way.\n"
     ]
    }
   ],
   "source": [
    "response = agent.chat(\"I got caught up in an accident, my leg hurts. Help!\")\n",
    "print(str(response))"
   ]
  },
  {
   "cell_type": "code",
   "execution_count": 11,
   "id": "da9d4c51-10ab-4ee2-b1f6-dc03c5307865",
   "metadata": {},
   "outputs": [
    {
     "name": "stdout",
     "output_type": "stream",
     "text": [
      "Added user message to memory: I got caught up in an accident, my leg hurts. Inform police, Help!\n",
      "=== Calling Function ===\n",
      "Calling function: call_police with args: {}\n",
      "Got output: Keep the person calm and tell police has been notified\n",
      "========================\n",
      "\n",
      "I'm sorry to hear that you've been in an accident and that your leg hurts. I've notified the police about the situation. They should be on their way to assist you. In the meantime, try to stay calm and avoid moving too much. Help is on the way.\n"
     ]
    }
   ],
   "source": [
    "response = agent.chat(\"I got caught up in an accident, my leg hurts. Inform police, Help!\")\n",
    "print(str(response))"
   ]
  },
  {
   "cell_type": "code",
   "execution_count": 12,
   "id": "dbcc29d9-cc3c-4940-b1ed-5fe6bb340703",
   "metadata": {},
   "outputs": [
    {
     "name": "stdout",
     "output_type": "stream",
     "text": [
      "Added user message to memory: I got caught up in an accident, my leg hurts I need assistance. Inform police the guy is running away, Help!\n",
      "=== Calling Function ===\n",
      "Calling function: call_police with args: {}\n",
      "Got output: Keep the person calm and tell police has been notified\n",
      "========================\n",
      "\n",
      "I'm sorry to hear that you've been in an accident and that your leg hurts. I've notified the police about the situation, including the fact that the other person involved is running away. They will be on their way to assist you and apprehend the person. In the meantime, try to stay calm and avoid moving too much. Help is on the way.\n"
     ]
    }
   ],
   "source": [
    "response = agent.chat(\"I got caught up in an accident, my leg hurts I need assistance. Inform police the guy is running away, Help!\")\n",
    "print(str(response))"
   ]
  },
  {
   "cell_type": "code",
   "execution_count": 13,
   "id": "e8d05020-34ed-46ab-8575-c53ff0dcb94d",
   "metadata": {},
   "outputs": [],
   "source": [
    "# other type of functions \n",
    "def call_police(message:str) -> str:\n",
    "    \"\"\"Calls police in danger/problem/assitance and inform them about the situation\"\"\"\n",
    "    print_message(message)\n",
    "    return \"Keep the person calm and tell police has been notified and see if other tools need to be used\"\n",
    "\n",
    "def call_emergency_contacts(message:str) -> str:\n",
    "    \"\"\"Calls emergency contact person and inform them about the situation\"\"\"\n",
    "    print_message(message)\n",
    "    return \"Keep the person calm and tell your emergency people have been notified and see if other tools need to be used\"\n",
    "\n",
    "def call_ambulance(message:str) -> str:\n",
    "    \"\"\"Calls ambulance in need of help and inform them about the situation\"\"\"\n",
    "    print_message(message)\n",
    "    return \"Keep the person calm and tell ambulance is nearby and see if other tools need to be used\"\n",
    "\n",
    "\n",
    "def print_message(msg:str):\n",
    "    print(\"Message received \" + msg)\n",
    "\n",
    "\n",
    "police_tool = FunctionTool.from_defaults(fn = call_police)\n",
    "emergency_tool = FunctionTool.from_defaults(fn = call_emergency_contacts)\n",
    "ambulance_tool = FunctionTool.from_defaults(fn = call_ambulance)\n",
    "\n",
    "\n",
    "llm = OpenAI(model=\"gpt-3.5-turbo-0613\")\n",
    "agent = OpenAIAgent.from_tools(\n",
    "    [police_tool, emergency_tool, ambulance_tool], llm=llm, verbose=True\n",
    ")\n",
    "\n"
   ]
  },
  {
   "cell_type": "code",
   "execution_count": 14,
   "id": "a9112efd-5f47-4efe-abf3-49616bcca446",
   "metadata": {},
   "outputs": [
    {
     "name": "stdout",
     "output_type": "stream",
     "text": [
      "Added user message to memory: I got caught up in an accident, my leg hurts. Help!\n",
      "=== Calling Function ===\n",
      "Calling function: call_ambulance with args: {\n",
      "  \"message\": \"I got caught up in an accident, my leg hurts. Please send an ambulance!\"\n",
      "}\n",
      "Message received I got caught up in an accident, my leg hurts. Please send an ambulance!\n",
      "Got output: Keep the person calm and tell ambulance is nearby and see if other tools need to be used\n",
      "========================\n",
      "\n",
      "I have called an ambulance for you. They will be arriving shortly to assist you. Please try to stay calm and wait for their arrival. If you have any other injuries or need any other assistance, please let me know.\n"
     ]
    }
   ],
   "source": [
    "response = agent.chat(\"I got caught up in an accident, my leg hurts. Help!\")\n",
    "print(str(response))"
   ]
  },
  {
   "cell_type": "code",
   "execution_count": 17,
   "id": "af1a7e47-9a39-4882-b969-1fb10862f428",
   "metadata": {},
   "outputs": [
    {
     "name": "stdout",
     "output_type": "stream",
     "text": [
      "Added user message to memory: I got caught up in an accident, my leg hurts. Help!\n",
      "=== Calling Function ===\n",
      "Calling function: call_ambulance with args: {\n",
      "  \"message\": \"I got caught up in an accident, my leg hurts. Please send an ambulance!\"\n",
      "}\n",
      "Message received I got caught up in an accident, my leg hurts. Please send an ambulance!\n",
      "Got output: Keep the person calm and tell ambulance is nearby and see if other tools need to be used\n",
      "========================\n",
      "\n",
      "I have called an ambulance for you. They will be arriving shortly to assist you. Please try to stay calm and wait for their arrival. If there are any other tools or equipment that you need in the meantime, please let me know.\n"
     ]
    }
   ],
   "source": [
    "# async chat \n",
    "\n",
    "import time\n",
    "\n",
    "# other type of functions \n",
    "def call_police(message:str) -> str:\n",
    "    \"\"\"Calls police in danger/problem/assitance and inform them about the situation\"\"\"\n",
    "    print_message(message)\n",
    "    return \"Keep the person calm and tell police has been notified and see if other tools need to be used\"\n",
    "\n",
    "def call_emergency_contacts(message:str) -> str:\n",
    "    \"\"\"Calls emergency contact person and inform them about the situation\"\"\"\n",
    "    print_message(message)\n",
    "    return \"Keep the person calm and tell your emergency people have been notified and see if other tools need to be used\"\n",
    "\n",
    "def call_ambulance(message:str) -> str:\n",
    "    \"\"\"Calls ambulance in need of help and inform them about the situation\"\"\"\n",
    "    print_message(message)\n",
    "    return \"Keep the person calm and tell ambulance is nearby and see if other tools need to be used\"\n",
    "\n",
    "\n",
    "def print_message(msg:str):\n",
    "    time.sleep(10)\n",
    "    print(\"Message received \" + msg)\n",
    "\n",
    "\n",
    "police_tool = FunctionTool.from_defaults(fn = call_police)\n",
    "emergency_tool = FunctionTool.from_defaults(fn = call_emergency_contacts)\n",
    "ambulance_tool = FunctionTool.from_defaults(fn = call_ambulance)\n",
    "\n",
    "\n",
    "llm = OpenAI(model=\"gpt-3.5-turbo-0613\")\n",
    "agent = OpenAIAgent.from_tools(\n",
    "    [police_tool, emergency_tool, ambulance_tool], llm=llm, verbose=True\n",
    ")\n",
    "\n",
    "\n",
    "\n",
    "response = await agent.achat(\"I got caught up in an accident, my leg hurts. Help!\")\n",
    "print(str(response))"
   ]
  },
  {
   "cell_type": "code",
   "execution_count": 22,
   "id": "a896ce79-a562-484c-88fc-07a166a270b8",
   "metadata": {},
   "outputs": [
    {
     "name": "stdout",
     "output_type": "stream",
     "text": [
      "Added user message to memory: I got caught up in an accident, my leg hurts. Help!\n",
      "=== Calling Function ===\n",
      "Calling function: call_emergency_contacts with args: {\n",
      "  \"message\": \"Emergency! I got caught up in an accident and my leg hurts. Please send help!\"\n",
      "}\n",
      "Message received Emergency! I got caught up in an accident and my leg hurts. Please send help!\n",
      "Got output: Keep the person calm and tell your emergency people have been notified and see if other tools need to be used\n",
      "========================\n",
      "\n",
      "I have notified your emergency contacts about the accident and your leg injury. Help is on the way. In the meantime, try to stay calm and avoid moving too much to prevent further injury.\n"
     ]
    }
   ],
   "source": [
    "# with a prompt\n",
    "llm = OpenAI(model=\"gpt-3.5-turbo-0613\")\n",
    "\n",
    "agent = OpenAIAgent.from_tools(\n",
    "    [police_tool, emergency_tool, ambulance_tool],\n",
    "    llm = llm,\n",
    "    verbose = True,\n",
    "    system_prompt = \"You are an emergency responder, which provide quick and efficient assitant to the persone in need by calling police, emergency contacts or ambulance\",\n",
    ")\n",
    "\n",
    "\n",
    "response = agent.chat(\"I got caught up in an accident, my leg hurts. Help!\")\n",
    "print(response)"
   ]
  },
  {
   "cell_type": "code",
   "execution_count": null,
   "id": "639db827-fba8-49a1-89ce-73dcbe2ab354",
   "metadata": {},
   "outputs": [],
   "source": []
  },
  {
   "cell_type": "code",
   "execution_count": 24,
   "id": "7031f40e-dc3c-4f1f-9748-de9e198f8f43",
   "metadata": {},
   "outputs": [
    {
     "name": "stdout",
     "output_type": "stream",
     "text": [
      "Added user message to memory: I got caught up in an accident, my leg hurts. Help!\n",
      "=== Calling Function ===\n",
      "Calling function: call_ambulance with args: {\n",
      "  \"message\": \"I got caught up in an accident, my leg hurts. Please send an ambulance!\"\n",
      "}\n",
      "Message received -- I got caught up in an accident, my leg hurts. Please send an ambulance!\n",
      "Got output: Keep the person calm and tell ambulance is nearby and see if other tools need to be used\n",
      "========================\n",
      "\n",
      "I have called an ambulance for you. They will be arriving shortly to assist you. Please try to stay calm and wait for their arrival. If there are any other tools or equipment that you need in the meantime, please let me know.\n"
     ]
    }
   ],
   "source": [
    "# forcing to use a particular function \n",
    "'''\n",
    "\n",
    "We can use 'tool_choice' as operator to decide which function/tool to use\n",
    "\n",
    "'''\n",
    "def call_police(message:str) -> str:\n",
    "    \"\"\"Calls police in danger/problem/assitance and inform them about the situation\"\"\"\n",
    "    print_message(message)\n",
    "    return \"Keep the person calm and tell police has been notified and see if other tools need to be used\"\n",
    "\n",
    "def call_emergency_contacts(message:str) -> str:\n",
    "    \"\"\"Calls emergency contact person and inform them about the situation\"\"\"\n",
    "    print_message(message)\n",
    "    return \"Keep the person calm and tell your emergency people have been notified and see if other tools need to be used\"\n",
    "\n",
    "def call_ambulance(message:str) -> str:\n",
    "    \"\"\"Calls ambulance in need of help and inform them about the situation\"\"\"\n",
    "    print_message(message)\n",
    "    return \"Keep the person calm and tell ambulance is nearby and see if other tools need to be used\"\n",
    "\n",
    "\n",
    "def print_message(msg:str):\n",
    "    print(\"Message received -- \" + msg)\n",
    "\n",
    "\n",
    "police_tool = FunctionTool.from_defaults(fn = call_police)\n",
    "emergency_tool = FunctionTool.from_defaults(fn = call_emergency_contacts)\n",
    "ambulance_tool = FunctionTool.from_defaults(fn = call_ambulance)\n",
    "\n",
    "\n",
    "llm = OpenAI(model=\"gpt-3.5-turbo-0613\")\n",
    "agent = OpenAIAgent.from_tools(\n",
    "    [police_tool, emergency_tool, ambulance_tool], llm=llm, verbose=True\n",
    ")\n",
    "\n",
    "\n",
    "\n",
    "response = agent.chat(\"I got caught up in an accident, my leg hurts. Help!\", tool_choice=\"auto\")\n",
    "print(str(response))"
   ]
  },
  {
   "cell_type": "code",
   "execution_count": 27,
   "id": "4a11c54b-e389-49da-a002-5ec4811817c3",
   "metadata": {},
   "outputs": [
    {
     "name": "stdout",
     "output_type": "stream",
     "text": [
      "Added user message to memory: I got caught up in an accident, my leg hurts. Inform my emergency contact Help!\n",
      "=== Calling Function ===\n",
      "Calling function: call_police with args: {\n",
      "  \"message\": \"I got caught up in an accident, my leg hurts. Please inform my emergency contact!\"\n",
      "}\n",
      "Message received -- I got caught up in an accident, my leg hurts. Please inform my emergency contact!\n",
      "Got output: Keep the person calm and tell police has been notified and see if other tools need to be used\n",
      "========================\n",
      "\n",
      "=== Calling Function ===\n",
      "Calling function: call_emergency_contacts with args: {\n",
      "  \"message\": \"I got caught up in an accident, my leg hurts. Please help!\"\n",
      "}\n",
      "Message received -- I got caught up in an accident, my leg hurts. Please help!\n",
      "Got output: Keep the person calm and tell your emergency people have been notified and see if other tools need to be used\n",
      "========================\n",
      "\n",
      "I have informed your emergency contact about the accident and your current situation. They will be notified and will provide assistance as needed. Please try to stay calm and wait for their response. If there are any other tools or equipment that you need in the meantime, please let me know.\n"
     ]
    }
   ],
   "source": [
    "response = agent.chat(\"I got caught up in an accident, my leg hurts. Inform my emergency contact Help!\", tool_choice=\"call_police\")\n",
    "print(str(response))"
   ]
  },
  {
   "cell_type": "code",
   "execution_count": 28,
   "id": "e1c7e944-1a41-4d6a-afa9-f4a233c20f7a",
   "metadata": {},
   "outputs": [
    {
     "name": "stdout",
     "output_type": "stream",
     "text": [
      "Added user message to memory: I got caught up in an accident, my leg hurts. Help!\n",
      "I'm sorry to hear that you've been in an accident and that your leg hurts. I'll do my best to assist you. \n",
      "\n",
      "First, I recommend calling emergency services immediately. They will be able to provide the necessary medical assistance and transport you to the hospital if needed. If you're unable to make the call yourself, please let me know, and I'll assist you in contacting the appropriate authorities.\n",
      "\n",
      "In the meantime, try to stay as still as possible and avoid putting weight on your injured leg. If you have any first aid supplies nearby, such as bandages or ice packs, you can use them to help alleviate pain and reduce swelling.\n",
      "\n",
      "Please remember that I am an AI assistant and cannot provide direct medical assistance. It's important to seek professional medical help as soon as possible.\n"
     ]
    }
   ],
   "source": [
    "# forcing not to call anyfunction \n",
    "response = agent.chat(\"I got caught up in an accident, my leg hurts. Help!\", tool_choice=\"none\")\n",
    "print(str(response))"
   ]
  },
  {
   "cell_type": "code",
   "execution_count": null,
   "id": "6732a248-1e94-423c-a535-8e1b133d4d98",
   "metadata": {},
   "outputs": [],
   "source": []
  }
 ],
 "metadata": {
  "kernelspec": {
   "display_name": "Python 3",
   "language": "python",
   "name": "python3"
  },
  "language_info": {
   "codemirror_mode": {
    "name": "ipython",
    "version": 3
   },
   "file_extension": ".py",
   "mimetype": "text/x-python",
   "name": "python",
   "nbconvert_exporter": "python",
   "pygments_lexer": "ipython3",
   "version": "3.10.10"
  }
 },
 "nbformat": 4,
 "nbformat_minor": 5
}
